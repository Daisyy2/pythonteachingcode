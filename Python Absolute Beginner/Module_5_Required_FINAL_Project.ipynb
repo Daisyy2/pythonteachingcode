{
 "cells": [
  {
   "cell_type": "markdown",
   "metadata": {
    "collapsed": true
   },
   "source": [
    "#  Final Project Required Coding Activity  \n",
    "Python Absolute Beginner \n",
    "\n",
    "Complete all tutorials, practices and required code in the course prior to attempting this activity.\n",
    "\n",
    "**This program requires the use of:**\n",
    "<ul>\n",
    "<li>functional programming: write and call a function</li>\n",
    "<li>**`while`** loop</li>\n",
    "<li>**`if, elif, else`**</li>\n",
    "<li>**`if,else`** (nested)</li>\n",
    "<li>**casting** of type,  between strings and numbers</li></ul>\n",
    "<br/>The program should **only** use code syntax covered in modules 1 - 4.<br/>\n",
    "<br/>The program must result in print output using the numeric input, similar to that shown in the samples displaying \"Items\" and \"Total\". If must also have a statement after the Total row indicating who made the calculation. This name must be your full name. See the sample output for clarity.\n",
    "\n",
    "\n",
    "## Program: `adding_report()` function  \n",
    "This program calls the adding_report() function which repeatedly takes positive integer input until the user quits and then sums the integers and prints a \"report\".    \n",
    "The **adding_report()** function has 1 string parameter which indicates the type of report:  \n",
    "- \"A\" used as the argument to adding_report() results in printing of all of the input integers and the total  \n",
    "- \"T\" used as the argument results in printing only the total   \n",
    "\n",
    "#### Sample input and output:  \n",
    "call adding_report() with \"A\" as argument (print all the integers entered and the total)  \n",
    "```\n",
    "Input an integer to add to the total or \"Q\" to quit\n",
    "Enter an integer or \"Q\"): 3\n",
    "Enter an integer or \"Q\"): 6\n",
    "Enter an integer or \"Q\"): 24\n",
    "Enter an integer or \"Q\"): 17\n",
    "Enter an integer or \"Q\"): 61\n",
    "Enter an integer or \"Q\"): nine\n",
    "nine is invalid input\n",
    "Enter an integer or \"Q\"): q\n",
    "\n",
    "Items\n",
    "3\n",
    "6\n",
    "24\n",
    "17\n",
    "61\n",
    "\n",
    "Total\n",
    " 111\n",
    " Calculated by: [YOUR FULL NAME GOES HERE]\n",
    "```  \n",
    "\n",
    "call with \"T\"(print only the total)  \n",
    "```\n",
    "Input an integer to add to the total or \"Q\" to quit\n",
    "Enter an integer or \"Q\": 5\n",
    "Enter an integer or \"Q\": 7\n",
    "Enter an integer or \"Q\": Quit\n",
    "\n",
    "Total\n",
    " 12\n",
    " Calculated by: [YOUR FULL NAME GOES HERE]\n",
    "```  \n",
    "\n",
    "\n",
    "### Additional Details\n",
    "  \n",
    "- initialize `total` variable which will sum integer values entered  \n",
    "- initialize `items` variable which will build a string of the integer inputs separated with a *new line character*  \n",
    "- define the `adding_report` function with one parameter `report` that will be a string with default of \"T\"  \n",
    "- inside the function build a forever loop (infinite while loop) and inside the loop complete the following  \n",
    "  - use a variable to gather input (integer or \"Q\")  \n",
    "  - check if the input string is a digit (integer) and if it is...  \n",
    "    - add input iteger to total  \n",
    "    - if report type is \"A\" add the numeric character(s) to the item string seperated by a new line  \n",
    "  - if not a digit, check if the input string is \"Q\" or starts with a \"Q\", **if \"Q\"** then...  \n",
    "    - if the report type is \"A\" print out all the integer items entered and the sum total  \n",
    "    - if report type is \"T\" then print out the sum total only  \n",
    "    - `break` out of while loop to end the function after printing the report (\"A\" or \"T\") \n",
    "  - if not a digit and if not a \"Q\" then print a message that the \"input is invalid\"  \n",
    "\n",
    "- Call the `adding_report` function with \"A\" and then with \"T\" report parameters  \n",
    "- Run and test your code before submitting"
   ]
  },
  {
   "cell_type": "code",
   "execution_count": 49,
   "metadata": {},
   "outputs": [
    {
     "name": "stdout",
     "output_type": "stream",
     "text": [
      "Input an integer to add to the total or \"Q\" to quit \n"
     ]
    },
    {
     "ename": "NameError",
     "evalue": "name 'A' is not defined",
     "output_type": "error",
     "traceback": [
      "\u001b[0;31m---------------------------------------------------------------------------\u001b[0m",
      "\u001b[0;31mNameError\u001b[0m                                 Traceback (most recent call last)",
      "Cell \u001b[0;32mIn[49], line 17\u001b[0m\n\u001b[1;32m     15\u001b[0m             \u001b[38;5;28mprint\u001b[39m(report, \u001b[38;5;124m\"\u001b[39m\u001b[38;5;124minput is invalid.\u001b[39m\u001b[38;5;124m\"\u001b[39m)\n\u001b[1;32m     16\u001b[0m         \u001b[38;5;28;01mbreak\u001b[39;00m    \n\u001b[0;32m---> 17\u001b[0m adding_report(A)\n\u001b[1;32m     18\u001b[0m \u001b[38;5;28;01mif\u001b[39;00m report\u001b[38;5;241m.\u001b[39mint():\n\u001b[1;32m     19\u001b[0m             \u001b[38;5;28mprint\u001b[39m(\u001b[38;5;124m\"\u001b[39m\u001b[38;5;124mItems\u001b[39m\u001b[38;5;130;01m\\n\u001b[39;00m\u001b[38;5;124m\"\u001b[39m, report)\n",
      "\u001b[0;31mNameError\u001b[0m: name 'A' is not defined"
     ]
    }
   ],
   "source": [
    "# [ ] create, call and test the adding_report() function\n",
    "print('Input an integer to add to the total or \"Q\" to quit ')\n",
    "\n",
    "\n",
    "def adding_report(T): \n",
    "    report= input('Enter an integer or \"Q\": ')\n",
    "    while int(report)>0:\n",
    "        ans=report.int().startswith(\"Q\")\n",
    "        if report.int():\n",
    "            print(\"Total:\\n\", int(report)+int(report))\n",
    "            print(sum(report))\n",
    "        elif report.startswith(\"Q\"):\n",
    "            print(sum(report))\n",
    "        else:\n",
    "            print(report, \"input is invalid.\")\n",
    "        break    \n",
    "adding_report(A)\n",
    "if report.int():\n",
    "            print(\"Items\\n\", report)\n",
    "else:\n",
    "            print(\"Total\\n\", report+report)\n",
    "            print(sum(report))\n",
    "       \n",
    "       \n",
    "print(\"Calculated by: Daisy Munoz\")"
   ]
  },
  {
   "cell_type": "markdown",
   "metadata": {},
   "source": [
    "Submit this by creating a python file (.py) and submitting it in D2L. Be sure to test that it works."
   ]
  }
 ],
 "metadata": {
  "kernelspec": {
   "display_name": "Python 3 (ipykernel)",
   "language": "python",
   "name": "python3"
  },
  "language_info": {
   "codemirror_mode": {
    "name": "ipython",
    "version": 3
   },
   "file_extension": ".py",
   "mimetype": "text/x-python",
   "name": "python",
   "nbconvert_exporter": "python",
   "pygments_lexer": "ipython3",
   "version": "3.11.5"
  }
 },
 "nbformat": 4,
 "nbformat_minor": 1
}
